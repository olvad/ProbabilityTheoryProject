{
 "cells": [
  {
   "cell_type": "code",
   "execution_count": 338,
   "id": "d2ad3af6",
   "metadata": {},
   "outputs": [],
   "source": [
    "import pandas as pd\n",
    "import numpy as np\n",
    "import matplotlib.pyplot as plt\n",
    "import math\n",
    "import scipy.stats\n",
    "import statsmodels.api as sm\n",
    "import statsmodels.formula.api as smf\n",
    "from statsmodels.tsa.stattools import adfuller\n",
    "%matplotlib inline\n",
    "\n"
   ]
  },
  {
   "cell_type": "markdown",
   "id": "e734d80c",
   "metadata": {},
   "source": [
    "### Задание 1"
   ]
  },
  {
   "cell_type": "code",
   "execution_count": 339,
   "id": "3cf82faf",
   "metadata": {},
   "outputs": [],
   "source": [
    "df = pd.read_excel('PRBi.xlsx')"
   ]
  },
  {
   "cell_type": "code",
   "execution_count": 340,
   "id": "09d1fbf7",
   "metadata": {},
   "outputs": [
    {
     "data": {
      "text/html": [
       "<div>\n",
       "<style scoped>\n",
       "    .dataframe tbody tr th:only-of-type {\n",
       "        vertical-align: middle;\n",
       "    }\n",
       "\n",
       "    .dataframe tbody tr th {\n",
       "        vertical-align: top;\n",
       "    }\n",
       "\n",
       "    .dataframe thead th {\n",
       "        text-align: right;\n",
       "    }\n",
       "</style>\n",
       "<table border=\"1\" class=\"dataframe\">\n",
       "  <thead>\n",
       "    <tr style=\"text-align: right;\">\n",
       "      <th></th>\n",
       "      <th>Nomer</th>\n",
       "      <th>Znachenie</th>\n",
       "    </tr>\n",
       "  </thead>\n",
       "  <tbody>\n",
       "    <tr>\n",
       "      <th>0</th>\n",
       "      <td>1</td>\n",
       "      <td>12.19</td>\n",
       "    </tr>\n",
       "    <tr>\n",
       "      <th>1</th>\n",
       "      <td>2</td>\n",
       "      <td>29.79</td>\n",
       "    </tr>\n",
       "    <tr>\n",
       "      <th>2</th>\n",
       "      <td>3</td>\n",
       "      <td>9.09</td>\n",
       "    </tr>\n",
       "    <tr>\n",
       "      <th>3</th>\n",
       "      <td>4</td>\n",
       "      <td>10.51</td>\n",
       "    </tr>\n",
       "    <tr>\n",
       "      <th>4</th>\n",
       "      <td>5</td>\n",
       "      <td>-4.49</td>\n",
       "    </tr>\n",
       "  </tbody>\n",
       "</table>\n",
       "</div>"
      ],
      "text/plain": [
       "   Nomer  Znachenie\n",
       "0      1      12.19\n",
       "1      2      29.79\n",
       "2      3       9.09\n",
       "3      4      10.51\n",
       "4      5      -4.49"
      ]
     },
     "execution_count": 340,
     "metadata": {},
     "output_type": "execute_result"
    }
   ],
   "source": [
    "df.head()"
   ]
  },
  {
   "cell_type": "code",
   "execution_count": 341,
   "id": "1a88de42",
   "metadata": {},
   "outputs": [
    {
     "data": {
      "text/plain": [
       "7.590100102044744"
      ]
     },
     "execution_count": 341,
     "metadata": {},
     "output_type": "execute_result"
    }
   ],
   "source": [
    "df.Znachenie.sum() / 1000\n",
    "# Выборочное среднее\n",
    "# В дальнейшем будем писать df.Znachenie.mean()"
   ]
  },
  {
   "cell_type": "code",
   "execution_count": 342,
   "id": "edfa816f",
   "metadata": {},
   "outputs": [],
   "source": [
    "n = 1000\n",
    "meanZn = df.Znachenie.mean()\n",
    "df['diffBetweenMeanKv'] = (df['Znachenie'] - meanZn) ** 2"
   ]
  },
  {
   "cell_type": "code",
   "execution_count": 343,
   "id": "ff51df82",
   "metadata": {},
   "outputs": [
    {
     "data": {
      "text/plain": [
       "170.5586411818631"
      ]
     },
     "execution_count": 343,
     "metadata": {},
     "output_type": "execute_result"
    }
   ],
   "source": [
    "# Смещенная дисперсия\n",
    "varSmeshRate2 = (df['diffBetweenMeanKv'].sum()) / n\n",
    "varSmeshRate2"
   ]
  },
  {
   "cell_type": "code",
   "execution_count": 344,
   "id": "2910ac8a",
   "metadata": {},
   "outputs": [
    {
     "data": {
      "text/plain": [
       "170.7293705524155"
      ]
     },
     "execution_count": 344,
     "metadata": {},
     "output_type": "execute_result"
    }
   ],
   "source": [
    "# Несмещенная дисперсия\n",
    "varNeSmeshRate2 = (df['diffBetweenMeanKv'].sum()) / (n - 1)\n",
    "varNeSmeshRate2"
   ]
  },
  {
   "cell_type": "code",
   "execution_count": 345,
   "id": "c66a9150",
   "metadata": {},
   "outputs": [
    {
     "data": {
      "text/plain": [
       "-33.26398528367281"
      ]
     },
     "execution_count": 345,
     "metadata": {},
     "output_type": "execute_result"
    }
   ],
   "source": [
    "#min\n",
    "df['Znachenie'].min()"
   ]
  },
  {
   "cell_type": "code",
   "execution_count": 346,
   "id": "4a242e8d",
   "metadata": {},
   "outputs": [
    {
     "data": {
      "text/plain": [
       "49.64002200216055"
      ]
     },
     "execution_count": 346,
     "metadata": {},
     "output_type": "execute_result"
    }
   ],
   "source": [
    "df['Znachenie'].max()"
   ]
  },
  {
   "cell_type": "markdown",
   "id": "f9e86f6b",
   "metadata": {},
   "source": [
    "### Задание 2"
   ]
  },
  {
   "cell_type": "code",
   "execution_count": 347,
   "id": "e697d93e",
   "metadata": {},
   "outputs": [
    {
     "data": {
      "text/plain": [
       "Text(0.5, 1.0, 'Гистограмма распределения значений')"
      ]
     },
     "execution_count": 347,
     "metadata": {},
     "output_type": "execute_result"
    },
    {
     "data": {
      "image/png": "[encoded data removed]",
      "text/plain": [
       "<Figure size 640x480 with 1 Axes>"
      ]
     },
     "metadata": {},
     "output_type": "display_data"
    }
   ],
   "source": [
    "df['Znachenie'].hist(bins = 30)\n",
    "plt.xlabel('Значение')\n",
    "plt.ylabel('Частота')\n",
    "plt.title('Гистограмма распределения значений')"
   ]
  },
  {
   "cell_type": "markdown",
   "id": "9f4f05e2",
   "metadata": {},
   "source": [
    "Предполагаем, что распределение нормальное, так как видно распределение с пиком в центре и симметричными боковыми сторонами\n"
   ]
  },
  {
   "cell_type": "markdown",
   "id": "f5ce7525",
   "metadata": {},
   "source": [
    "### Задание 3\n"
   ]
  },
  {
   "cell_type": "code",
   "execution_count": 348,
   "id": "25479eed",
   "metadata": {},
   "outputs": [
    {
     "name": "stdout",
     "output_type": "stream",
     "text": [
      "tn-1,1-alpha/2 = 1.9623414611334487 \n",
      "tn-1,alpha/2 = -1.962341461133449\n"
     ]
    }
   ],
   "source": [
    "tfirst = scipy.stats.t.ppf(q = 0.05/2, df = 999)\n",
    "tsecond = scipy.stats.t.ppf(q = 1 - 0.05/2, df = 999)\n",
    "print('tn-1,1-alpha/2 =', tsecond,'\\ntn-1,alpha/2 =', tfirst)"
   ]
  },
  {
   "cell_type": "code",
   "execution_count": 349,
   "id": "57d7ca34",
   "metadata": {},
   "outputs": [],
   "source": [
    "n = 1000\n",
    "a = meanZn - tsecond * math.sqrt(varNeSmeshRate2) / math.sqrt(n)\n",
    "b = meanZn - tfirst * math.sqrt(varNeSmeshRate2) / math.sqrt(n)"
   ]
  },
  {
   "cell_type": "code",
   "execution_count": 350,
   "id": "e0d87d25",
   "metadata": {},
   "outputs": [
    {
     "name": "stdout",
     "output_type": "stream",
     "text": [
      "P(6.779272173212221 <= μ <= 8.400928030877267) = 0.95\n"
     ]
    }
   ],
   "source": [
    "print(f'P({a} <= μ <= {b}) = 0.95')"
   ]
  },
  {
   "cell_type": "markdown",
   "id": "0eb56dbd",
   "metadata": {},
   "source": [
    "### Задание 4\n"
   ]
  },
  {
   "cell_type": "markdown",
   "id": "ab3c16e9",
   "metadata": {},
   "source": [
    "scv =  scipy.stats.chi2.ppf(firstProb, df = 999)\n",
    "fcv = scipy.stats.chi2.ppf(secondProb , df = 999)\n",
    "fcv,scv"
   ]
  },
  {
   "cell_type": "code",
   "execution_count": 353,
   "id": "97ccd555",
   "metadata": {},
   "outputs": [
    {
     "data": {
      "text/plain": [
       "(156.69330967633252, 186.74964934774277)"
      ]
     },
     "execution_count": 353,
     "metadata": {},
     "output_type": "execute_result"
    }
   ],
   "source": [
    "c = varNeSmeshRate2 * (n - 1) / fcv\n",
    "d = varNeSmeshRate2 * (n - 1) / scv\n",
    "c,d"
   ]
  },
  {
   "cell_type": "code",
   "execution_count": 354,
   "id": "51bd865d",
   "metadata": {},
   "outputs": [
    {
     "name": "stdout",
     "output_type": "stream",
     "text": [
      "P(156.69330967633252 <= σ^2 <= 186.74964934774277) = 0.95\n"
     ]
    }
   ],
   "source": [
    "print(f'P({a} <= σ^2 <= {b}) = 0.95')"
   ]
  },
  {
   "cell_type": "markdown",
   "id": "7e10bec5",
   "metadata": {},
   "source": [
    "### Задание 5\n"
   ]
  },
  {
   "cell_type": "markdown",
   "id": "0e66b4d1",
   "metadata": {},
   "source": [
    "Уровень значимости 10%\n",
    "\n",
    "Двусторнняя альтернатива\n",
    "Получается берем z5 и z95\n",
    "\n",
    "Cформулируем гипотезы\n",
    "\n",
    "$ H0: μ0 = 0 $\n",
    "\n",
    "$ H1: μ0 != 0 $\n",
    "\n",
    "Так как мы предположили, что выборка получена из нормальной генеральной совокупности 𝑁(μ,σ2), но у нас неизвестна дисперсия, приведем распределение к Стьюденту\n",
    "\n",
    "Тогда \n",
    "\n",
    "$ ((mean(x) - μ) / (varNeSmeshRate / sqrt(n))   (это)   tn-1 $\n",
    "\n",
    "Найдем критическое значение функции"
   ]
  },
  {
   "cell_type": "code",
   "execution_count": 355,
   "id": "3d3fc846",
   "metadata": {},
   "outputs": [
    {
     "data": {
      "text/plain": [
       "18.369332869233308"
      ]
     },
     "execution_count": 355,
     "metadata": {},
     "output_type": "execute_result"
    }
   ],
   "source": [
    "critical_value = (df.Znachenie.mean() - 0) / (math.sqrt(varNeSmeshRate2) / math.sqrt(n))\n",
    "critical_value"
   ]
  },
  {
   "cell_type": "code",
   "execution_count": 356,
   "id": "69bed4c2",
   "metadata": {},
   "outputs": [],
   "source": [
    "z5 = scipy.stats.t.ppf(q = 0.05, df = 999)\n",
    "z95 = scipy.stats.t.ppf(q = 0.95, df = 999)"
   ]
  },
  {
   "cell_type": "code",
   "execution_count": 357,
   "id": "b2501915",
   "metadata": {},
   "outputs": [
    {
     "name": "stdout",
     "output_type": "stream",
     "text": [
      "Критическое значение 18.369332869233308 выходит за пределы интервала (-1.6463803454275356, 1.646380345427535)\n"
     ]
    }
   ],
   "source": [
    "print(f'Критическое значение {critical_value} выходит за пределы интервала {z5,z95}')"
   ]
  },
  {
   "cell_type": "markdown",
   "id": "ace51bba",
   "metadata": {},
   "source": [
    "H0 отвергается в пользу H1"
   ]
  },
  {
   "cell_type": "markdown",
   "id": "c6a1c843",
   "metadata": {},
   "source": [
    "### Задание 6\n"
   ]
  },
  {
   "cell_type": "markdown",
   "id": "415503d7",
   "metadata": {},
   "source": [
    "Разделим выборку на 2 части по 500 значений\n"
   ]
  },
  {
   "cell_type": "code",
   "execution_count": 358,
   "id": "1e0b6b4a",
   "metadata": {},
   "outputs": [
    {
     "data": {
      "text/html": [
       "<div>\n",
       "<style scoped>\n",
       "    .dataframe tbody tr th:only-of-type {\n",
       "        vertical-align: middle;\n",
       "    }\n",
       "\n",
       "    .dataframe tbody tr th {\n",
       "        vertical-align: top;\n",
       "    }\n",
       "\n",
       "    .dataframe thead th {\n",
       "        text-align: right;\n",
       "    }\n",
       "</style>\n",
       "<table border=\"1\" class=\"dataframe\">\n",
       "  <thead>\n",
       "    <tr style=\"text-align: right;\">\n",
       "      <th></th>\n",
       "      <th>Nomer</th>\n",
       "      <th>Znachenie</th>\n",
       "      <th>diffBetweenMeanKv</th>\n",
       "    </tr>\n",
       "  </thead>\n",
       "  <tbody>\n",
       "    <tr>\n",
       "      <th>995</th>\n",
       "      <td>996</td>\n",
       "      <td>-0.62</td>\n",
       "      <td>67.39</td>\n",
       "    </tr>\n",
       "    <tr>\n",
       "      <th>996</th>\n",
       "      <td>997</td>\n",
       "      <td>9.66</td>\n",
       "      <td>4.29</td>\n",
       "    </tr>\n",
       "    <tr>\n",
       "      <th>997</th>\n",
       "      <td>998</td>\n",
       "      <td>28.75</td>\n",
       "      <td>447.94</td>\n",
       "    </tr>\n",
       "    <tr>\n",
       "      <th>998</th>\n",
       "      <td>999</td>\n",
       "      <td>-27.58</td>\n",
       "      <td>1236.99</td>\n",
       "    </tr>\n",
       "    <tr>\n",
       "      <th>999</th>\n",
       "      <td>1000</td>\n",
       "      <td>20.33</td>\n",
       "      <td>162.35</td>\n",
       "    </tr>\n",
       "  </tbody>\n",
       "</table>\n",
       "</div>"
      ],
      "text/plain": [
       "     Nomer  Znachenie  diffBetweenMeanKv\n",
       "995    996      -0.62              67.39\n",
       "996    997       9.66               4.29\n",
       "997    998      28.75             447.94\n",
       "998    999     -27.58            1236.99\n",
       "999   1000      20.33             162.35"
      ]
     },
     "execution_count": 358,
     "metadata": {},
     "output_type": "execute_result"
    }
   ],
   "source": [
    "firstdf = df[0:500]\n",
    "firstdf.tail()\n",
    "seconddf = df[500:]\n",
    "seconddf.tail()\n"
   ]
  },
  {
   "cell_type": "code",
   "execution_count": 359,
   "id": "fbb25596",
   "metadata": {},
   "outputs": [
    {
     "data": {
      "text/plain": [
       "<AxesSubplot: >"
      ]
     },
     "execution_count": 359,
     "metadata": {},
     "output_type": "execute_result"
    },
    {
     "data": {
      "image/png": "[encoded data removed]",
      "text/plain": [
       "<Figure size 640x480 with 1 Axes>"
      ]
     },
     "metadata": {},
     "output_type": "display_data"
    }
   ],
   "source": [
    "firstdf['Znachenie'].hist(bins = 50)\n",
    "seconddf['Znachenie'].hist(bins = 50, alpha = 0.7)"
   ]
  },
  {
   "cell_type": "code",
   "execution_count": 360,
   "id": "5900a2fd",
   "metadata": {},
   "outputs": [
    {
     "data": {
      "text/plain": [
       "(7.672579869842593, 7.507620334246894)"
      ]
     },
     "execution_count": 360,
     "metadata": {},
     "output_type": "execute_result"
    }
   ],
   "source": [
    "#Mean\n",
    "meanZn1 = firstdf.Znachenie.mean()\n",
    "meanZn2 = seconddf.Znachenie.mean()\n",
    "meanZn1, meanZn2"
   ]
  },
  {
   "cell_type": "code",
   "execution_count": 361,
   "id": "478703b8",
   "metadata": {},
   "outputs": [
    {
     "data": {
      "text/plain": [
       "(166.0071180387518, 175.79376609323836)"
      ]
     },
     "execution_count": 361,
     "metadata": {},
     "output_type": "execute_result"
    }
   ],
   "source": [
    "# Несмещенная дисперсия\n",
    "m = 500\n",
    "var1NeSmeshRate2 = (firstdf['diffBetweenMeanKv'].sum()) / (m - 1)\n",
    "var2NeSmeshRate2 = (seconddf['diffBetweenMeanKv'].sum()) / (m - 1)\n",
    "var1NeSmeshRate2,var2NeSmeshRate2"
   ]
  },
  {
   "cell_type": "markdown",
   "id": "544b595b",
   "metadata": {},
   "source": [
    "Мы хотим проверить гипотезу о равенстве мат. ожиданий.\n",
    "Объединим две выборки в D = X - Y\n",
    "Тогда E(D) = μ1 - μ2 = 0\n",
    "\n",
    "Формула тестовой статистики будет приведена к t(n+m-2)\n",
    "Уровень значимости 10%\n",
    "\n",
    "Двусторнняя альтернатива\n",
    "Получается берем z5 и z95\n",
    "\n",
    "Cформулируем гипотезы\n",
    "\n",
    "$ H0: μ1 = μ2 $\n",
    "\n",
    "$ H1: μ1 != μ2 $\n"
   ]
  },
  {
   "cell_type": "code",
   "execution_count": 362,
   "id": "9714f8be",
   "metadata": {},
   "outputs": [
    {
     "data": {
      "text/plain": [
       "(-1.6463818766348761, 1.6463818766348755)"
      ]
     },
     "execution_count": 362,
     "metadata": {},
     "output_type": "execute_result"
    }
   ],
   "source": [
    "ze5 = scipy.stats.t.ppf(q = 0.05, df = 500 + 500 - 2)\n",
    "ze95 = scipy.stats.t.ppf(q = 0.95, df = 500 + 500 - 2)\n",
    "ze5,ze95"
   ]
  },
  {
   "cell_type": "markdown",
   "id": "cf9becf8",
   "metadata": {},
   "source": [
    "Применим формулу тестовой статистики для тестировании гипотезы о равенстве матожиданий"
   ]
  },
  {
   "cell_type": "code",
   "execution_count": 363,
   "id": "6db989da",
   "metadata": {},
   "outputs": [
    {
     "data": {
      "text/plain": [
       "0.04190924051968376"
      ]
     },
     "execution_count": 363,
     "metadata": {},
     "output_type": "execute_result"
    }
   ],
   "source": [
    "T = (meanZn1 - meanZn2) / (math.sqrt((1 / 500 + 1 / 500) * ((500 - 1))/(500 + 500 - 2) * var1NeSmeshRate2 + (500 - 1))/(500 + 500 - 2) * var2NeSmeshRate2)\n",
    "T"
   ]
  },
  {
   "cell_type": "code",
   "execution_count": 364,
   "id": "744fd0aa",
   "metadata": {},
   "outputs": [
    {
     "name": "stdout",
     "output_type": "stream",
     "text": [
      "Критическое значение 0.04190924051968376 не выходит за пределы интервала (-1.6463818766348761, 1.6463818766348755)\n"
     ]
    }
   ],
   "source": [
    "print(f'Критическое значение {T} не выходит за пределы интервала {ze5,ze95}')"
   ]
  },
  {
   "cell_type": "markdown",
   "id": "ce1e95d2",
   "metadata": {},
   "source": [
    "Тогда мы не отвергаем нулевую гипотезу"
   ]
  },
  {
   "cell_type": "markdown",
   "id": "3923a080",
   "metadata": {},
   "source": [
    "### Задание 7"
   ]
  },
  {
   "cell_type": "markdown",
   "id": "f3710f34",
   "metadata": {},
   "source": [
    "Мы хотим проверить гипотезу о равенстве дисперсий.\n",
    "Объединим две выборки в D = X - Y\n",
    "\n",
    "Формула тестовой статистики будет приведена к F(n - 1, m - 1)\n",
    "\n",
    "Гипотеза:\n",
    "\n",
    "$ H0: σ1^2 = σ2^2 $\n",
    "\n",
    "$ H1: σ1^2 != σ2^2 $\n",
    "\n",
    "Уровень значимости 10%\n",
    "\n",
    "Двусторнняя альтернатива\n",
    "\n",
    "Получается берем F499,499,0.05 и F500,500,0.95\n",
    "\n"
   ]
  },
  {
   "cell_type": "code",
   "execution_count": 365,
   "id": "d156b9a2",
   "metadata": {},
   "outputs": [
    {
     "data": {
      "text/plain": [
       "(0.8629418796107595, 1.1586553765546113)"
      ]
     },
     "execution_count": 365,
     "metadata": {},
     "output_type": "execute_result"
    }
   ],
   "source": [
    "Ffirst = scipy.stats.f.ppf(0.05, 499, 499)\n",
    "Fsecond = scipy.stats.f.ppf(0.95, 500, 500)\n",
    "Ffirst, Fsecond"
   ]
  },
  {
   "cell_type": "markdown",
   "id": "8dcfc20d",
   "metadata": {},
   "source": [
    "Применим формулу тестовой статистики для тестировании гипотезы о равенстве дисперсий"
   ]
  },
  {
   "cell_type": "code",
   "execution_count": 366,
   "id": "c0fdcca7",
   "metadata": {},
   "outputs": [
    {
     "name": "stdout",
     "output_type": "stream",
     "text": [
      "Критическое значение 0.944328810560348 не выходит за пределы интервала (0.8629418796107595, 1.1586553765546113)\n"
     ]
    }
   ],
   "source": [
    "Tvalue = ((1 / (500 - 1)) * (firstdf['diffBetweenMeanKv'].sum())) / ((1 / (500 - 1)) * (seconddf['diffBetweenMeanKv'].sum()))\n",
    "Tvalue\n",
    "print(f'Критическое значение {Tvalue} не выходит за пределы интервала {Ffirst, Fsecond}')"
   ]
  },
  {
   "cell_type": "markdown",
   "id": "05c4e2d6",
   "metadata": {},
   "source": [
    "Тогда мы не отвергаем гипотезу о равенстве дисперсий"
   ]
  },
  {
   "cell_type": "markdown",
   "id": "47716414",
   "metadata": {},
   "source": [
    "### Задание 8"
   ]
  },
  {
   "cell_type": "code",
   "execution_count": 367,
   "id": "e2d9df9f",
   "metadata": {},
   "outputs": [],
   "source": [
    "mean1 = df_first['metrics'].mean()\n",
    "mean2= df_second['metrics'].mean()\n",
    "df_first.loc[ df.metrics <= mean1, 'metrics'] = 0\n",
    "df_first.loc[ df.metrics > mean1, 'metrics'] = 1\n",
    "df_second.loc[ df.metrics <= mean2, 'metrics'] = 0\n",
    "df_second.loc[ df.metrics > mean2, 'metrics'] = 1"
   ]
  },
  {
   "cell_type": "markdown",
   "id": "63e64227",
   "metadata": {},
   "source": [
    "Расчитаем параметры px"
   ]
  },
  {
   "cell_type": "code",
   "execution_count": 368,
   "id": "ce236285",
   "metadata": {},
   "outputs": [
    {
     "data": {
      "text/plain": [
       "(0.506, 0.508)"
      ]
     },
     "execution_count": 368,
     "metadata": {},
     "output_type": "execute_result"
    }
   ],
   "source": [
    "firstp0 = firstdf[firstdf['binary'] == 0].binary.count() / 500 \n",
    "secondp0 = seconddf[seconddf['binary'] == 0].binary.count() / 500\n",
    "firstp0, secondp0"
   ]
  },
  {
   "cell_type": "markdown",
   "id": "a23ad9fe",
   "metadata": {},
   "source": [
    "Тестовую статистику приведем к нормальному распределению \n",
    "\n",
    "Уровень значимости 10%\n",
    "\n",
    "Двусторнняя альтернатива\n",
    "\n",
    "Тогда найдем z5 и z95\n",
    "Равенство единиц означает равенство матожиданий в распределении Бернулли\n",
    "\n"
   ]
  },
  {
   "cell_type": "markdown",
   "id": "6cbf7d3e",
   "metadata": {},
   "source": [
    "Гипотеза:\n",
    "\n",
    "$ H0: px = py $\n",
    "\n",
    "$ H1: px != py $\n",
    "    "
   ]
  },
  {
   "cell_type": "code",
   "execution_count": 369,
   "id": "c980cca1",
   "metadata": {},
   "outputs": [
    {
     "data": {
      "text/plain": [
       "-0.06325187870752942"
      ]
     },
     "execution_count": 369,
     "metadata": {},
     "output_type": "execute_result"
    }
   ],
   "source": [
    "Tst = (firstp0 - secondp0) / math.sqrt(((firstp0 * (1 - firstp0)) / 500) + ((secondp0 * (1 - secondp0)) / 500))\n",
    "Tst"
   ]
  },
  {
   "cell_type": "code",
   "execution_count": 370,
   "id": "90f6ce9d",
   "metadata": {},
   "outputs": [
    {
     "data": {
      "text/plain": [
       "(-1.6448536269514729, 1.6448536269514722)"
      ]
     },
     "execution_count": 370,
     "metadata": {},
     "output_type": "execute_result"
    }
   ],
   "source": [
    "z5norm = scipy.stats.norm.ppf(q = 0.05)\n",
    "z95norm = scipy.stats.norm.ppf(q = 0.95)\n",
    "z5norm,z95norm"
   ]
  },
  {
   "cell_type": "code",
   "execution_count": 371,
   "id": "6088732a",
   "metadata": {},
   "outputs": [
    {
     "name": "stdout",
     "output_type": "stream",
     "text": [
      "Критическое значение -0.06325187870752942 не выходит за пределы интервала (-1.6448536269514729, 1.6448536269514722)\n"
     ]
    }
   ],
   "source": [
    "print(f'Критическое значение {Tst} не выходит за пределы интервала {z5norm, z95norm}')"
   ]
  },
  {
   "cell_type": "markdown",
   "id": "d9ad6bb7",
   "metadata": {},
   "source": [
    "Не отвергаем гипотезу о равенстве долей единиц"
   ]
  }
 ],
 "metadata": {
  "kernelspec": {
   "display_name": "Python 3 (ipykernel)",
   "language": "python",
   "name": "python3"
  },
  "language_info": {
   "codemirror_mode": {
    "name": "ipython",
    "version": 3
   },
   "file_extension": ".py",
   "mimetype": "text/x-python",
   "name": "python",
   "nbconvert_exporter": "python",
   "pygments_lexer": "ipython3",
   "version": "3.9.6"
  }
 },
 "nbformat": 4,
 "nbformat_minor": 5
}
